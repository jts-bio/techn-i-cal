{
 "cells": [
  {
   "cell_type": "code",
   "execution_count": 1,
   "metadata": {},
   "outputs": [],
   "source": [
    "import requests\n",
    "import json"
   ]
  },
  {
   "cell_type": "code",
   "execution_count": 2,
   "metadata": {},
   "outputs": [],
   "source": [
    "def get_database (database_id: str) -> dict:\n",
    "\n",
    "    url = \"https://api.notion.com/v1/databases/\" + database_id \n",
    "\n",
    "    headers = {\n",
    "        \"accept\":         \"application/json\",\n",
    "        \"Notion-Version\": \"2022-06-28\",\n",
    "        \"Authorization\":  \"secret_HGQurYHVaHboPwjnaS8L1T6KjK9CBybxvZkCVcUhtCA\"\n",
    "    }\n",
    "    response = requests.get(url, headers=headers)\n",
    "    return json.loads(response.content)"
   ]
  },
  {
   "cell_type": "code",
   "execution_count": 3,
   "metadata": {},
   "outputs": [
    {
     "data": {
      "text/plain": [
       "{'object': 'error',\n",
       " 'status': 404,\n",
       " 'code': 'object_not_found',\n",
       " 'message': 'Could not find database with ID: 8a2d2d1e-a71f-4ebd-842a-416b827314d5. Make sure the relevant pages and databases are shared with your integration.'}"
      ]
     },
     "execution_count": 3,
     "metadata": {},
     "output_type": "execute_result"
    }
   ],
   "source": [
    "get_database(\"8a2d2d1ea71f4ebd842a416b827314d5\")"
   ]
  },
  {
   "cell_type": "code",
   "execution_count": null,
   "metadata": {},
   "outputs": [],
   "source": []
  }
 ],
 "metadata": {
  "kernelspec": {
   "display_name": "Python 3",
   "language": "python",
   "name": "python3"
  },
  "language_info": {
   "codemirror_mode": {
    "name": "ipython",
    "version": 3
   },
   "file_extension": ".py",
   "mimetype": "text/x-python",
   "name": "python",
   "nbconvert_exporter": "python",
   "pygments_lexer": "ipython3",
   "version": "3.10.4"
  },
  "orig_nbformat": 4
 },
 "nbformat": 4,
 "nbformat_minor": 2
}
