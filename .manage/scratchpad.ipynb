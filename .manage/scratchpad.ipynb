{
 "cells": [
  {
   "cell_type": "code",
   "execution_count": 1,
   "id": "c0a353bb",
   "metadata": {},
   "outputs": [],
   "source": [
    "import django \n",
    "import os\n",
    "os.environ[\"DJANGO_ALLOW_ASYNC_UNSAFE\"] = \"true\"\n",
    "django.setup()\n",
    "from sch.models import *\n",
    "import datetime as dt\n",
    "from django.db.models import CharField\n",
    "from sch.actions import *\n",
    "from sch.xviews import week"
   ]
  },
  {
   "cell_type": "code",
   "execution_count": 5,
   "id": "dafc3c07",
   "metadata": {},
   "outputs": [
    {
     "name": "stdout",
     "output_type": "stream",
     "text": [
      "S2022-5C\n",
      "S2022-6C\n",
      "S2022-7C\n",
      "S2022-8C\n"
     ]
    }
   ],
   "source": [
    "sch_all = Schedule.objects.all()\n",
    "for sch in sch_all:\n",
    "    print (sch)"
   ]
  },
  {
   "cell_type": "code",
   "execution_count": 7,
   "id": "841cc62e",
   "metadata": {},
   "outputs": [
    {
     "data": {
      "text/plain": [
       "<EmployeeManager [<Employee: Molly>, <Employee: Doug>, <Employee: Carrie>, <Employee: Lynlee>, <Employee: Andrew>]>"
      ]
     },
     "execution_count": 7,
     "metadata": {},
     "output_type": "execute_result"
    }
   ],
   "source": [
    "wd = Workday.objects.get(slug='2022-11-01')\n",
    "emptySlots = wd.slots.filter(employee=None).order_by('fillableByN')[0]._fillableBy()\n",
    "sortByNeededHrs = employee.needed_hours(r)"
   ]
  },
  {
   "cell_type": "code",
   "execution_count": 6,
   "id": "8cd541c6",
   "metadata": {
    "tags": []
   },
   "outputs": [],
   "source": [
    "from sch.actions import *\n",
    "from sch.xviews import week"
   ]
  },
  {
   "cell_type": "code",
   "execution_count": 52,
   "id": "019f99a9",
   "metadata": {},
   "outputs": [
    {
     "name": "stdout",
     "output_type": "stream",
     "text": [
      "<EmployeeManager [<Employee: Brianna>, <Employee: Elisia>, <Employee: Jaden>, <Employee: Trisha>, <Employee: Tiffany>, <Employee: Nicki>]>\n"
     ]
    }
   ],
   "source": [
    "empl_in_conflicting = list(slot.conflicting_slots.all().values_list('employee',flat=True).distinct())\n",
    "empl_w_ptor = list(PtoRequest.objects.filter(workday=slot.workday.date).values_list('employee',flat=True).distinct())\n",
    "empl_w_tdo  = list(TemplatedDayOff.objects.filter(sd_id=slot.workday.sd_id).values_list('employee',flat=True).distinct())\n",
    "incompatible = list(set(empl_in_conflicting + empl_w_ptor + empl_w_tdo))\n",
    "if None in incompatible:\n",
    "    incompatible.remove(None)\n",
    "incompatible_employees = Employee.objects.filter(id__in=incompatible)\n",
    "fillableBy = Employee.objects.filter(shifts_available=slot.shift).exclude(id__in=incompatible)\n",
    "print(fillableBy)\n"
   ]
  },
  {
   "cell_type": "code",
   "execution_count": 54,
   "id": "b7f572c4",
   "metadata": {},
   "outputs": [
    {
     "ename": "ZeroDivisionError",
     "evalue": "division by zero",
     "output_type": "error",
     "traceback": [
      "\u001b[0;31m---------------------------------------------------------------------------\u001b[0m",
      "\u001b[0;31mZeroDivisionError\u001b[0m                         Traceback (most recent call last)",
      "\u001b[1;32m/workspace/techn-i-cal/.manage/scratchpad.ipynb Cell 6\u001b[0m in \u001b[0;36m<cell line: 2>\u001b[0;34m()\u001b[0m\n\u001b[1;32m      <a href='vscode-notebook-cell://ssh-remote%2B7b2275736572223a226a747362696f2d746563686e6963616c2d346e347175666736783970222c22686f73744e616d65223a226a747362696f2d746563686e6963616c2d346e3471756667367839702e7373682e77732d757337372e676974706f642e696f227d/workspace/techn-i-cal/.manage/scratchpad.ipynb#X44sdnNjb2RlLXJlbW90ZQ%3D%3D?line=0'>1</a>\u001b[0m week \u001b[39m=\u001b[39m Week\u001b[39m.\u001b[39mobjects\u001b[39m.\u001b[39mfirst()\n\u001b[0;32m----> <a href='vscode-notebook-cell://ssh-remote%2B7b2275736572223a226a747362696f2d746563686e6963616c2d346e347175666736783970222c22686f73744e616d65223a226a747362696f2d746563686e6963616c2d346e3471756667367839702e7373682e77732d757337372e676974706f642e696f227d/workspace/techn-i-cal/.manage/scratchpad.ipynb#X44sdnNjb2RlLXJlbW90ZQ%3D%3D?line=1'>2</a>\u001b[0m weekprefScore  \u001b[39m=\u001b[39m \u001b[39msum\u001b[39;49m(week\u001b[39m.\u001b[39;49mslots\u001b[39m.\u001b[39;49mexclude(employee\u001b[39m=\u001b[39;49m\u001b[39mNone\u001b[39;49;00m)\u001b[39m.\u001b[39;49mvalues_list(\u001b[39m'\u001b[39;49m\u001b[39mempl_sentiment\u001b[39;49m\u001b[39m'\u001b[39;49m,flat\u001b[39m=\u001b[39;49m\u001b[39mTrue\u001b[39;49;00m)) \u001b[39m/\u001b[39;49m \u001b[39mlen\u001b[39;49m(week\u001b[39m.\u001b[39;49mslots\u001b[39m.\u001b[39;49mexclude(employee\u001b[39m=\u001b[39;49m\u001b[39mNone\u001b[39;49;00m))\n",
      "\u001b[0;31mZeroDivisionError\u001b[0m: division by zero"
     ]
    }
   ],
   "source": []
  },
  {
   "cell_type": "code",
   "execution_count": 17,
   "id": "f6640332",
   "metadata": {},
   "outputs": [
    {
     "data": {
      "text/plain": [
       "<EmployeeManager []>"
      ]
     },
     "execution_count": 17,
     "metadata": {},
     "output_type": "execute_result"
    }
   ],
   "source": [
    "emps = Employee.objects.in_other_slot(workday=Workday.objects.get(slug='2022-10-31'),shift=Shift.objects.get(name__contains='7C'))\n",
    "emps = emps.filter(shifts_trained=Shift.objects.get(name__contains='7C'))\n",
    "emps"
   ]
  },
  {
   "cell_type": "code",
   "execution_count": null,
   "id": "0a591e81",
   "metadata": {},
   "outputs": [
    {
     "ename": "",
     "evalue": "",
     "output_type": "error",
     "traceback": [
      "\u001b[1;31mRunning cells with 'Python 3.8.10 64-bit' requires ipykernel package.\n",
      "\u001b[1;31mRun the following command to install 'ipykernel' into the Python environment. \n",
      "\u001b[1;31mCommand: '/bin/python3 -m pip install ipykernel -U --user --force-reinstall'"
     ]
    }
   ],
   "source": [
    "shiftsPerWeek = 0\n",
    "for sft in Shift.objects.filter(start__hour__gte=10, cls='CPhT').values_list('occur_days',flat=True):\n",
    "    shiftsPerWeek += len(sft)\n",
    "shiftsPerWeek"
   ]
  },
  {
   "attachments": {},
   "cell_type": "markdown",
   "id": "edc3f73a",
   "metadata": {},
   "source": [
    "## NIGHT PERCENTAGE OF TOTAL SHIFTS\""
   ]
  },
  {
   "cell_type": "code",
   "execution_count": null,
   "id": "db89552a",
   "metadata": {},
   "outputs": [
    {
     "ename": "",
     "evalue": "",
     "output_type": "error",
     "traceback": [
      "\u001b[1;31mRunning cells with 'Python 3.8.10 64-bit' requires ipykernel package.\n",
      "\u001b[1;31mRun the following command to install 'ipykernel' into the Python environment. \n",
      "\u001b[1;31mCommand: '/bin/python3 -m pip install ipykernel -U --user --force-reinstall'"
     ]
    }
   ],
   "source": [
    "NIGHT_PERCENTS = []\n",
    "for emp in Employee.objects.all():\n",
    "    if Slot.objects.filter(employee=emp).exists():\n",
    "        perc = round(Slot.objects.filter(employee=emp,shift__start__hour__gte=10).count()/Slot.objects.filter(employee=emp).count()*100, 1)\n",
    "        NIGHT_PERCENTS += [f\"{emp}: {perc}% EVENINGS  {int(perc/4) *'+'}\"]\n",
    "        \n",
    "NIGHT_PERCENTS\n",
    "        "
   ]
  },
  {
   "attachments": {},
   "cell_type": "markdown",
   "id": "397ed522",
   "metadata": {},
   "source": [
    "## SLOTS FROM A WEEK"
   ]
  },
  {
   "cell_type": "code",
   "execution_count": null,
   "id": "da43b2f5",
   "metadata": {},
   "outputs": [
    {
     "ename": "",
     "evalue": "",
     "output_type": "error",
     "traceback": [
      "\u001b[1;31mRunning cells with 'Python 3.8.10 64-bit' requires ipykernel package.\n",
      "\u001b[1;31mRun the following command to install 'ipykernel' into the Python environment. \n",
      "\u001b[1;31mCommand: '/bin/python3 -m pip install ipykernel -U --user --force-reinstall'"
     ]
    }
   ],
   "source": [
    "def getTradableSlots(slot):\n",
    "    print('INPUT: ', slot)\n",
    "    emp = slot.employee\n",
    "    sft = slot.shift\n",
    "    wd = slot.workday\n",
    "    weekdays = slot.workday.siblings_iweek\n",
    "    daysOn = Slot.objects.filter(workday__in = weekdays,employee = emp).values('workday').distinct()\n",
    "    daysOff = weekdays.exclude(pk__in=daysOn)\n",
    "    print('daysOff:',list(daysOff.values_list('date__day',flat=True)))\n",
    "    tenable = []\n",
    "    slotDaysOff = Slot.objects.filter(workday__in=daysOff, shift__in=emp.shifts_available.all()).order_by('workday')\n",
    "    print(slotDaysOff)\n",
    "    for slotB in slotDaysOff:\n",
    "        if emp in slot.fillableBy():\n",
    "            if slotB.employee in slot.fillableBy():\n",
    "                tenable.append(slotB)\n",
    "    print('tenableTrades:',len(tenable),[f'{i.shift}>{i.workday.date.day}' for i in tenable])\n",
    "    return tenable\n",
    "\n"
   ]
  },
  {
   "cell_type": "code",
   "execution_count": null,
   "id": "cc9377c9",
   "metadata": {},
   "outputs": [
    {
     "ename": "",
     "evalue": "",
     "output_type": "error",
     "traceback": [
      "\u001b[1;31mRunning cells with 'Python 3.8.10 64-bit' requires ipykernel package.\n",
      "\u001b[1;31mRun the following command to install 'ipykernel' into the Python environment. \n",
      "\u001b[1;31mCommand: '/bin/python3 -m pip install ipykernel -U --user --force-reinstall'"
     ]
    }
   ],
   "source": [
    "slots = Slot.objects.filter(employee__name=\"Trisha\",workday__iweek=43,workday__date__year=2022)\n",
    "for slot in slots:\n",
    "    print('-------------')\n",
    "    print(slot.is_turnaround)\n",
    "    getTradableSlots(slot)"
   ]
  },
  {
   "cell_type": "code",
   "execution_count": null,
   "id": "543fa934",
   "metadata": {},
   "outputs": [
    {
     "ename": "",
     "evalue": "",
     "output_type": "error",
     "traceback": [
      "\u001b[1;31mRunning cells with 'Python 3.8.10 64-bit' requires ipykernel package.\n",
      "\u001b[1;31mRun the following command to install 'ipykernel' into the Python environment. \n",
      "\u001b[1;31mCommand: '/bin/python3 -m pip install ipykernel -U --user --force-reinstall'"
     ]
    }
   ],
   "source": [
    "wds = Workday.objects.filter(date__year=2022,ischedule=7)\n",
    "ss = Slot.objects.filter(workday__in=wds)\n",
    "ss"
   ]
  },
  {
   "cell_type": "code",
   "execution_count": null,
   "id": "be66339b",
   "metadata": {},
   "outputs": [
    {
     "ename": "",
     "evalue": "",
     "output_type": "error",
     "traceback": [
      "\u001b[1;31mRunning cells with 'Python 3.8.10 64-bit' requires ipykernel package.\n",
      "\u001b[1;31mRun the following command to install 'ipykernel' into the Python environment. \n",
      "\u001b[1;31mCommand: '/bin/python3 -m pip install ipykernel -U --user --force-reinstall'"
     ]
    }
   ],
   "source": [
    "for wd in Workday.objects.filter(iweek=44):\n",
    "    print(wd,\"~~~Week:\",wd.week)"
   ]
  },
  {
   "cell_type": "code",
   "execution_count": null,
   "id": "14ec5ce1",
   "metadata": {},
   "outputs": [
    {
     "ename": "",
     "evalue": "",
     "output_type": "error",
     "traceback": [
      "\u001b[1;31mRunning cells with 'Python 3.8.10 64-bit' requires ipykernel package.\n",
      "\u001b[1;31mRun the following command to install 'ipykernel' into the Python environment. \n",
      "\u001b[1;31mCommand: '/bin/python3 -m pip install ipykernel -U --user --force-reinstall'"
     ]
    }
   ],
   "source": [
    "n = Workday.objects.all().count()\n",
    "print( f\"TOTAL WORKDAYS: {n} \" )"
   ]
  },
  {
   "cell_type": "code",
   "execution_count": null,
   "id": "be12b210",
   "metadata": {},
   "outputs": [
    {
     "ename": "",
     "evalue": "",
     "output_type": "error",
     "traceback": [
      "\u001b[1;31mRunning cells with 'Python 3.8.10 64-bit' requires ipykernel package.\n",
      "\u001b[1;31mRun the following command to install 'ipykernel' into the Python environment. \n",
      "\u001b[1;31mCommand: '/bin/python3 -m pip install ipykernel -U --user --force-reinstall'"
     ]
    }
   ],
   "source": [
    "from django import forms\n",
    "import datetime as dt\n",
    "class ArticleForm(forms.Form):\n",
    "     title = forms.CharField()\n",
    "     pub_date = forms.DateField()"
   ]
  },
  {
   "cell_type": "code",
   "execution_count": null,
   "id": "ea485bfd",
   "metadata": {},
   "outputs": [
    {
     "ename": "",
     "evalue": "",
     "output_type": "error",
     "traceback": [
      "\u001b[1;31mRunning cells with 'Python 3.8.10 64-bit' requires ipykernel package.\n",
      "\u001b[1;31mRun the following command to install 'ipykernel' into the Python environment. \n",
      "\u001b[1;31mCommand: '/bin/python3 -m pip install ipykernel -U --user --force-reinstall'"
     ]
    }
   ],
   "source": [
    "\"\"\" \n",
    "Janet’s ducks lay 16 eggs per day. She eats three for breakfast \n",
    "every morning and bakes muffins for her friends every day with \n",
    "four. She sells the remainder for $2 per egg. How much does she\n",
    "make every day? SHOW YOUR CALCULATIONS\n",
    "\"\"\"\n",
    "\n",
    "# Define the number of eggs Janet's ducks lay per day.\n",
    "eggs_per_day = 16\n",
    "\n",
    "# Define the number of eggs Janet eats for breakfast every morning.\n",
    "eggs_for_breakfast = 3\n",
    "\n",
    "# Define the number of eggs Janet uses to bake muffins for her friends every day.\n",
    "eggs_for_muffins = 4\n",
    "\n",
    "# Define the price Janet sells her eggs for.\n",
    "eggs_price = 2\n",
    "\n",
    "# Calculate the number of eggs Janet has left over after eating breakfast and baking muffins.\n",
    "eggs_leftover = eggs_per_day - eggs_for_breakfast - eggs_for_muffins\n",
    "\n",
    "# Calculate the amount of money Janet makes selling her eggs.\n",
    "eggs_money = eggs_leftover * eggs_price\n",
    "\n",
    "# Print the number of eggs Janet has left over after eating breakfast and baking muffins.\n",
    "print(\"Janet has \" + str(eggs_leftover) + \" eggs left over after eating breakfast and baking muffins.\")\n",
    "\n",
    "# Print the amount of money Janet makes selling her eggs.\n",
    "print(\"Janet makes $\" + str(eggs_money) + \" selling her eggs.\")"
   ]
  },
  {
   "cell_type": "code",
   "execution_count": null,
   "id": "5897b3e9",
   "metadata": {},
   "outputs": [
    {
     "ename": "",
     "evalue": "",
     "output_type": "error",
     "traceback": [
      "\u001b[1;31mRunning cells with 'Python 3.8.10 64-bit' requires ipykernel package.\n",
      "\u001b[1;31mRun the following command to install 'ipykernel' into the Python environment. \n",
      "\u001b[1;31mCommand: '/bin/python3 -m pip install ipykernel -U --user --force-reinstall'"
     ]
    }
   ],
   "source": [
    "def turnarounds_withTrades ():\n",
    "    tradeable = {}\n",
    "    tas = Slot.objects.filter(is_turnaround=True)|Slot.objects.filter(is_preturnaround=True)\n",
    "    slts = tas.filter(employee__evening_pref=True)\n",
    "    empl_wantsThisSwapped = slts.filter(shift__start__hour__lt=10)\n",
    "    for i in range(empl_wantsThisSwapped.count()):\n",
    "        s = empl_wantsThisSwapped[i]\n",
    "        if s.fillableBy().count() > 0:\n",
    "            if not tradeable.get('pref'):\n",
    "                tradeable['pref'] = []\n",
    "            tradeable['pref'] += [s]\n",
    "    empl_likesThisSlot = slts.filter(shift__start__hour__gte=10)\n",
    "    for i in range(empl_likesThisSlot.count()):\n",
    "        s = empl_likesThisSlot[i]\n",
    "        if s.fillableBy().count() > 0:\n",
    "            if not tradeable.get('nonpref'):\n",
    "                tradeable['nonpref'] = []\n",
    "            tradeable['nonpref'] += [s]\n",
    "    return tradeable\n",
    "    \n",
    "x = turnarounds_withTrades()\n",
    "x"
   ]
  },
  {
   "cell_type": "code",
   "execution_count": null,
   "id": "b2317a75",
   "metadata": {},
   "outputs": [
    {
     "ename": "",
     "evalue": "",
     "output_type": "error",
     "traceback": [
      "\u001b[1;31mRunning cells with 'Python 3.8.10 64-bit' requires ipykernel package.\n",
      "\u001b[1;31mRun the following command to install 'ipykernel' into the Python environment. \n",
      "\u001b[1;31mCommand: '/bin/python3 -m pip install ipykernel -U --user --force-reinstall'"
     ]
    }
   ],
   "source": [
    "t = {}\n",
    "a = t.get('a')\n",
    "print(a)"
   ]
  },
  {
   "cell_type": "code",
   "execution_count": null,
   "id": "6e306435",
   "metadata": {},
   "outputs": [
    {
     "ename": "",
     "evalue": "",
     "output_type": "error",
     "traceback": [
      "\u001b[1;31mRunning cells with 'Python 3.8.10 64-bit' requires ipykernel package.\n",
      "\u001b[1;31mRun the following command to install 'ipykernel' into the Python environment. \n",
      "\u001b[1;31mCommand: '/bin/python3 -m pip install ipykernel -U --user --force-reinstall'"
     ]
    }
   ],
   "source": [
    "def weekSlots_for_Empl (yearN, weekN, employee):\n",
    "    slots = Slot.objects.filter(workday__iweek=weekN,workday__date__year=yearN,employee=employee)\n",
    "    for i in range(7):\n",
    "        s = slots.filter(workday__iweekday=i)\n",
    "        if s.exists() == False:\n",
    "            yield None\n",
    "        else:\n",
    "            yield s.first()\n",
    "            \n",
    "def display_weekSlots_for_Empl (yearN, weekN, employee):\n",
    "    slots = [slot for slot in weekSlots_for_Empl(yearN,weekN,employee)]\n",
    "    wds = 'SUN MON TUE WED THU FRI SAT'.split(' ')\n",
    "    empl = f'{employee}'\n",
    "    \n",
    "    print(f'{yearN}-Week_{weekN} employee schedule:')\n",
    "    print(f'_________ {empl} __________')\n",
    "    for i in range(7):\n",
    "        print(f'{wds[i]}: {slots[i]}')\n",
    "    print('==========================')"
   ]
  },
  {
   "cell_type": "code",
   "execution_count": null,
   "id": "d4e49a7d",
   "metadata": {},
   "outputs": [
    {
     "ename": "",
     "evalue": "",
     "output_type": "error",
     "traceback": [
      "\u001b[1;31mRunning cells with 'Python 3.8.10 64-bit' requires ipykernel package.\n",
      "\u001b[1;31mRun the following command to install 'ipykernel' into the Python environment. \n",
      "\u001b[1;31mCommand: '/bin/python3 -m pip install ipykernel -U --user --force-reinstall'"
     ]
    }
   ],
   "source": [
    "slots = weekSlots_for_Empl(2022,44,Employee.objects.get(name='Josh'))\n",
    "slots = [slot for slot in slots]\n",
    "display_weekSlots_for_Empl(2022,44,Employee.objects.get(name='Molly'))\n",
    "display_weekSlots_for_Empl(2022,44,Employee.objects.get(name='Josh'))"
   ]
  },
  {
   "cell_type": "code",
   "execution_count": null,
   "id": "af4ce5ce",
   "metadata": {},
   "outputs": [
    {
     "ename": "",
     "evalue": "",
     "output_type": "error",
     "traceback": [
      "\u001b[1;31mRunning cells with 'Python 3.8.10 64-bit' requires ipykernel package.\n",
      "\u001b[1;31mRun the following command to install 'ipykernel' into the Python environment. \n",
      "\u001b[1;31mCommand: '/bin/python3 -m pip install ipykernel -U --user --force-reinstall'"
     ]
    }
   ],
   "source": [
    "def emp1_emp2_cowork_days (emp1,emp2,yearN,schN):\n",
    "    jtsSlots = Slot.objects.filter(employee=emp1,workday__date__year=yearN,workday__ischedule=schN)\n",
    "    nkiSlots = Slot.objects.filter(employee=emp2,workday__date__year=yearN,workday__ischedule=schN)\n",
    "    dates = jtsSlots.union(nkiSlots)\n",
    "    dates = dates.values('workday')\n",
    "    for d in dates:\n",
    "        if d in jtsSlots.values('workday'):\n",
    "            if d in nkiSlots.values('workday'):\n",
    "                yield d['workday']\n",
    "                # \"[207,217,223...]\"\n",
    "josh = Employee.objects.get(name=\"Josh\")    \n",
    "nicki = Employee.objects.get(name=\"Nicki\")      \n",
    "xs = emp1_emp2_cowork_days(josh,nicki,2022,5)\n",
    "days = Workday.objects.filter(pk__in=xs)\n",
    "\n",
    "\n",
    "print(f'COWORK DAYS FOR {josh} and {nicki}')\n",
    "print(\"TOTAL FOR SCHEDULE:\", days.count())\n",
    "print(list(days.values_list('slug',flat=True)))\n",
    "\n"
   ]
  },
  {
   "cell_type": "code",
   "execution_count": null,
   "id": "cb5d595f",
   "metadata": {},
   "outputs": [
    {
     "ename": "",
     "evalue": "",
     "output_type": "error",
     "traceback": [
      "\u001b[1;31mRunning cells with 'Python 3.8.10 64-bit' requires ipykernel package.\n",
      "\u001b[1;31mRun the following command to install 'ipykernel' into the Python environment. \n",
      "\u001b[1;31mCommand: '/bin/python3 -m pip install ipykernel -U --user --force-reinstall'"
     ]
    }
   ],
   "source": [
    "josh_slots_w_nicki = Slot.objects.filter(workday__in=days,employee=josh)\n",
    "josh_slots_w_nicki \n",
    "for jslot in josh_slots_w_nicki:\n",
    "    nslot = Slot.objects.get(workday=jslot.workday,employee=nicki)\n",
    "    print(jslot,\"  |  \",nslot)"
   ]
  },
  {
   "attachments": {},
   "cell_type": "markdown",
   "id": "fb0c0eef",
   "metadata": {},
   "source": [
    "## Employee Training Comparisons"
   ]
  },
  {
   "cell_type": "code",
   "execution_count": null,
   "id": "1a8a5476",
   "metadata": {},
   "outputs": [
    {
     "ename": "",
     "evalue": "",
     "output_type": "error",
     "traceback": [
      "\u001b[1;31mRunning cells with 'Python 3.8.10 64-bit' requires ipykernel package.\n",
      "\u001b[1;31mRun the following command to install 'ipykernel' into the Python environment. \n",
      "\u001b[1;31mCommand: '/bin/python3 -m pip install ipykernel -U --user --force-reinstall'"
     ]
    }
   ],
   "source": [
    "vals = Employee.objects.annotate(n_shifts_trained=Count('shifts_trained')).order_by('n_shifts_trained').values_list('name','n_shifts_trained')\n",
    "for val in vals:\n",
    "    print (\"%s is trained for %s shift(s).\" % (val[0], val[1]))"
   ]
  },
  {
   "cell_type": "code",
   "execution_count": null,
   "id": "63cffd9f",
   "metadata": {},
   "outputs": [
    {
     "ename": "",
     "evalue": "",
     "output_type": "error",
     "traceback": [
      "\u001b[1;31mRunning cells with 'Python 3.8.10 64-bit' requires ipykernel package.\n",
      "\u001b[1;31mRun the following command to install 'ipykernel' into the Python environment. \n",
      "\u001b[1;31mCommand: '/bin/python3 -m pip install ipykernel -U --user --force-reinstall'"
     ]
    }
   ],
   "source": [
    "Schedule.objects.create()"
   ]
  },
  {
   "cell_type": "code",
   "execution_count": null,
   "id": "3c48d8b0",
   "metadata": {},
   "outputs": [
    {
     "ename": "",
     "evalue": "",
     "output_type": "error",
     "traceback": [
      "\u001b[1;31mRunning cells with 'Python 3.8.10 64-bit' requires ipykernel package.\n",
      "\u001b[1;31mRun the following command to install 'ipykernel' into the Python environment. \n",
      "\u001b[1;31mCommand: '/bin/python3 -m pip install ipykernel -U --user --force-reinstall'"
     ]
    }
   ],
   "source": [
    "for emp in Employee.objects.all():\n",
    "    print(f\"{emp.name.ljust(20)} {emp.yrs_experience} yr. experience\")"
   ]
  },
  {
   "cell_type": "code",
   "execution_count": null,
   "id": "d6f87d1f",
   "metadata": {},
   "outputs": [
    {
     "ename": "",
     "evalue": "",
     "output_type": "error",
     "traceback": [
      "\u001b[1;31mRunning cells with 'Python 3.8.10 64-bit' requires ipykernel package.\n",
      "\u001b[1;31mRun the following command to install 'ipykernel' into the Python environment. \n",
      "\u001b[1;31mCommand: '/bin/python3 -m pip install ipykernel -U --user --force-reinstall'"
     ]
    }
   ],
   "source": [
    "b = Employee.objects.get(name=\"David\")\n",
    "b.hire_date = dt.date(2022,6,1)\n",
    "b.save()\n",
    "b.hire_date"
   ]
  },
  {
   "attachments": {},
   "cell_type": "markdown",
   "id": "095227c6",
   "metadata": {},
   "source": [
    "# Low Option Employees"
   ]
  },
  {
   "cell_type": "code",
   "execution_count": null,
   "id": "dd0ed6a5",
   "metadata": {},
   "outputs": [
    {
     "ename": "",
     "evalue": "",
     "output_type": "error",
     "traceback": [
      "\u001b[1;31mRunning cells with 'Python 3.8.10 64-bit' requires ipykernel package.\n",
      "\u001b[1;31mRun the following command to install 'ipykernel' into the Python environment. \n",
      "\u001b[1;31mCommand: '/bin/python3 -m pip install ipykernel -U --user --force-reinstall'"
     ]
    }
   ],
   "source": [
    "loe = Employee.objects.filter(fte__gt=0).filter(n_trained__lt=4)\n",
    "for l in loe:\n",
    "    print (l.name, l.n_trained, l.shifts_trained.all())"
   ]
  },
  {
   "cell_type": "code",
   "execution_count": null,
   "id": "034e536f",
   "metadata": {},
   "outputs": [
    {
     "ename": "",
     "evalue": "",
     "output_type": "error",
     "traceback": [
      "\u001b[1;31mRunning cells with 'Python 3.8.10 64-bit' requires ipykernel package.\n",
      "\u001b[1;31mRun the following command to install 'ipykernel' into the Python environment. \n",
      "\u001b[1;31mCommand: '/bin/python3 -m pip install ipykernel -U --user --force-reinstall'"
     ]
    }
   ],
   "source": [
    "import itertools as itr \n",
    "\n",
    "iters = list(itr.permutations(josh.shifts_available.all(), r=2))\n",
    "iters"
   ]
  },
  {
   "cell_type": "code",
   "execution_count": null,
   "id": "21f9f5ff",
   "metadata": {},
   "outputs": [
    {
     "ename": "",
     "evalue": "",
     "output_type": "error",
     "traceback": [
      "\u001b[1;31mRunning cells with 'Python 3.8.10 64-bit' requires ipykernel package.\n",
      "\u001b[1;31mRun the following command to install 'ipykernel' into the Python environment. \n",
      "\u001b[1;31mCommand: '/bin/python3 -m pip install ipykernel -U --user --force-reinstall'"
     ]
    }
   ],
   "source": []
  }
 ],
 "metadata": {
  "kernelspec": {
   "display_name": "Python 3.8.13 64-bit ('shims')",
   "language": "python",
   "name": "python3"
  },
  "language_info": {
   "codemirror_mode": {
    "name": "ipython",
    "version": 3
   },
   "file_extension": ".py",
   "mimetype": "text/x-python",
   "name": "python",
   "nbconvert_exporter": "python",
   "pygments_lexer": "ipython3",
   "version": "3.8.13"
  },
  "vscode": {
   "interpreter": {
    "hash": "9ac03a0a6051494cc606d484d27d20fce22fb7b4d169f583271e11d5ba46a56e"
   }
  }
 },
 "nbformat": 4,
 "nbformat_minor": 5
}
